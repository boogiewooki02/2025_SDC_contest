{
 "cells": [
  {
   "cell_type": "code",
   "execution_count": null,
   "id": "1f01e604",
   "metadata": {},
   "outputs": [],
   "source": [
    "!pip install geopandas"
   ]
  },
  {
   "cell_type": "code",
   "execution_count": null,
   "id": "9435464e",
   "metadata": {},
   "outputs": [
    {
     "name": "stdout",
     "output_type": "stream",
     "text": [
      "🔹 컬럼(열) 목록:\n",
      "Index(['GRID_1K_CD', 'geometry'], dtype='object')\n",
      "\n",
      "🔹 샘플 데이터:\n",
      "  GRID_1K_CD                                           geometry\n",
      "0     가다7964  POLYGON ((779000 1564000, 779000 1565000, 7800...\n",
      "1     가다8064  POLYGON ((780000 1564000, 780000 1565000, 7810...\n",
      "2     가다8164  POLYGON ((781000 1564000, 781000 1565000, 7820...\n",
      "3     가다8264  POLYGON ((782000 1564000, 782000 1565000, 7830...\n",
      "4     가다7765  POLYGON ((777000 1565000, 777000 1566000, 7780...\n",
      "\n",
      "🔹 좌표계 (CRS):\n",
      "EPSG:5179\n"
     ]
    }
   ],
   "source": [
    "import geopandas as gpd\n",
    "\n",
    "# test\n",
    "# 1. 격자 도형 파일 불러오기 (shp 또는 geojson)\n",
    "gdf = gpd.read_file(\"1km/grid/grid_가다_1K.shp\")  # 또는 .geojson\n",
    "\n",
    "# 2. 열 목록 확인\n",
    "print(\"🔹 컬럼(열) 목록:\")\n",
    "print(gdf.columns)\n",
    "\n",
    "# 3. 첫 5개 행 출력\n",
    "print(\"\\n🔹 샘플 데이터:\")\n",
    "print(gdf.head())\n",
    "\n",
    "# 4. 좌표계(CRS) 확인\n",
    "print(\"\\n🔹 좌표계 (CRS):\")\n",
    "print(gdf.crs)"
   ]
  }
 ],
 "metadata": {
  "kernelspec": {
   "display_name": "base",
   "language": "python",
   "name": "python3"
  },
  "language_info": {
   "codemirror_mode": {
    "name": "ipython",
    "version": 3
   },
   "file_extension": ".py",
   "mimetype": "text/x-python",
   "name": "python",
   "nbconvert_exporter": "python",
   "pygments_lexer": "ipython3",
   "version": "3.12.9"
  }
 },
 "nbformat": 4,
 "nbformat_minor": 5
}
